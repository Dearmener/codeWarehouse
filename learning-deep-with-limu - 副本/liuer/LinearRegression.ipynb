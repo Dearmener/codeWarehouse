{
 "cells": [
  {
   "cell_type": "code",
   "execution_count": null,
   "metadata": {},
   "outputs": [],
   "source": [
    "'''\n",
    "1. 准备数据集\n",
    "2. 设计模型\n",
    "3. 构造损失函数和优化器\n",
    "4. 训练周期\n",
    "'''"
   ]
  },
  {
   "cell_type": "code",
   "execution_count": null,
   "metadata": {},
   "outputs": [],
   "source": [
    "import torch\n",
    "import numpy as np\n",
    "\n",
    "x_data = torch.tensor([[1.0],[2.0],[3.0]])\n",
    "y_data = torch.tensor([[2.0],[4.0],[6.0]])\n",
    "\n",
    "class LinearModel(torch.nn.Module):\n",
    "    def __init__(self):\n",
    "        super(LinearModel,self).__init__()\n",
    "        self.linear = torch.nn.Linear(1,1)#输入的特征数量为1，输出的特征数量为1\n",
    "    \n",
    "    def forward(self,x):\n",
    "        y_pred = self.linear(x)\n",
    "        return y_pred\n",
    "\n",
    "model = LinearModel()\n",
    "criterion = torch.nn.MSELoss(size_average=False)\n",
    "optimizer = torch.optim.SGD(model.parameters(),lr = 0.01)\n",
    "for epoch in range(10000):\n",
    "    y_pred = model(x_data)\n",
    "    loss = criterion(y_pred,y_data)\n",
    "    print(f\"epoch is {epoch}, loss is {loss.item()}\")\n",
    "    optimizer.zero_grad()\n",
    "    loss.backward()\n",
    "    optimizer.step()\n",
    "\n",
    "print(f\"w is {model.linear.weight.item()},b is {model.linear.bias.item()}\")\n",
    "\n",
    "print(f\"if x = 4 then y get {model(torch.tensor([4.0]))}\")"
   ]
  },
  {
   "cell_type": "code",
   "execution_count": 13,
   "metadata": {},
   "outputs": [
    {
     "name": "stdout",
     "output_type": "stream",
     "text": [
      "if x = 4, then y get 7.999997138977051\n"
     ]
    }
   ],
   "source": [
    "# 使用torch自带的SGD和Linear创建模型\n",
    "import torch\n",
    "import numpy as np\n",
    "\n",
    "x_data = torch.tensor([[1.0],[2.0],[3.0]])\n",
    "y_data = torch.tensor([[2.0],[4.0],[6.0]])\n",
    "\n",
    "\n",
    "class LinearMode(torch.nn.Module):\n",
    "    def __init__(self, *args, **kwargs) -> None:\n",
    "        super().__init__(*args, **kwargs)\n",
    "        self.linear = torch.nn.Linear(1,1)    \n",
    "\n",
    "    def forward(self,x):\n",
    "        y_pred = self.linear(x)\n",
    "        return y_pred\n",
    "    \n",
    "model = LinearMode()\n",
    "#定义损失函数\n",
    "loss1 = torch.nn.MSELoss(size_average=False)\n",
    "opti = torch.optim.SGD(model.parameters(),lr = 0.01)\n",
    "\n",
    "for epoch in range(100000):\n",
    "    y_pred = model(x_data)\n",
    "    l = loss1(y_pred,y_data)\n",
    "    opti.zero_grad()\n",
    "    l.backward()\n",
    "    opti.step()\n",
    "\n",
    "   \n",
    "print(f\"if x = 4, then y get {model(torch.tensor([4.0])).item()}\")\n",
    "\n",
    "\n",
    "\n"
   ]
  }
 ],
 "metadata": {
  "kernelspec": {
   "display_name": "pytorch-Test",
   "language": "python",
   "name": "python3"
  },
  "language_info": {
   "codemirror_mode": {
    "name": "ipython",
    "version": 3
   },
   "file_extension": ".py",
   "mimetype": "text/x-python",
   "name": "python",
   "nbconvert_exporter": "python",
   "pygments_lexer": "ipython3",
   "version": "3.11.5"
  },
  "orig_nbformat": 4
 },
 "nbformat": 4,
 "nbformat_minor": 2
}

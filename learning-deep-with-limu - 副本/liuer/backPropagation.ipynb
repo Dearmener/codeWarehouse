{
 "cells": [
  {
   "cell_type": "code",
   "execution_count": null,
   "metadata": {},
   "outputs": [],
   "source": [
    "# y = wx\n",
    "import torch\n",
    "import numpy as np\n",
    "\n",
    "x_data = [1.0,2.0,3.0]\n",
    "y_data = [2.0,4.0,6.0]\n",
    "\n",
    "w = torch.tensor([1.0])\n",
    "w.requires_grad = True\n",
    "\n",
    "def forward(x):\n",
    "    return w*x\n",
    "\n",
    "# 采用随机梯度下降\n",
    "def loss(y_h,y):\n",
    "    return (y_h-y)**2\n",
    "\n",
    "for epoch in range(100):\n",
    "    l_sum = 0\n",
    "    for x,y in zip(x_data,y_data):\n",
    "        y_h = forward(x)\n",
    "        l = loss(y_h,y)\n",
    "        l.backward()\n",
    "        with torch.no_grad():\n",
    "            w.data = w.data-0.01*w.grad\n",
    "            w.grad.data.zero_()\n",
    "            l_sum += l.item()\n",
    "    print(f\"第{epoch}轮，l is {l_sum}，w is {w.item()}\")"
   ]
  },
  {
   "cell_type": "code",
   "execution_count": 1,
   "metadata": {},
   "outputs": [
    {
     "name": "stdout",
     "output_type": "stream",
     "text": [
      "Caffe2 in PyTorch: False\n"
     ]
    },
    {
     "ename": "ModuleNotFoundError",
     "evalue": "No module named 'caffe2'",
     "output_type": "error",
     "traceback": [
      "\u001b[1;31m---------------------------------------------------------------------------\u001b[0m",
      "\u001b[1;31mModuleNotFoundError\u001b[0m                       Traceback (most recent call last)",
      "Cell \u001b[1;32mIn[1], line 21\u001b[0m\n\u001b[0;32m     18\u001b[0m \u001b[39mdef\u001b[39;00m \u001b[39mforward2\u001b[39m(x):\n\u001b[0;32m     19\u001b[0m     \u001b[39mreturn\u001b[39;00m w_1\u001b[39m*\u001b[39mx\u001b[39m*\u001b[39m\u001b[39m*\u001b[39m\u001b[39m2\u001b[39m\u001b[39m+\u001b[39mw_2\u001b[39m*\u001b[39mx\u001b[39m+\u001b[39mb\n\u001b[1;32m---> 21\u001b[0m writer\u001b[39m.\u001b[39;49madd_graph(forward2,w_1)\n\u001b[0;32m     22\u001b[0m writer\u001b[39m.\u001b[39madd_graph(forward2,w_2)\n\u001b[0;32m     23\u001b[0m writer\u001b[39m.\u001b[39madd_graph(forward2,b)\n",
      "File \u001b[1;32md:\\ProgramData\\anaconda3\\envs\\pytorch-Test\\Lib\\site-packages\\torch\\utils\\tensorboard\\writer.py:877\u001b[0m, in \u001b[0;36mSummaryWriter.add_graph\u001b[1;34m(self, model, input_to_model, verbose, use_strict_trace)\u001b[0m\n\u001b[0;32m    872\u001b[0m     \u001b[39mself\u001b[39m\u001b[39m.\u001b[39m_get_file_writer()\u001b[39m.\u001b[39madd_graph(\n\u001b[0;32m    873\u001b[0m         graph(model, input_to_model, verbose, use_strict_trace)\n\u001b[0;32m    874\u001b[0m     )\n\u001b[0;32m    875\u001b[0m \u001b[39melse\u001b[39;00m:\n\u001b[0;32m    876\u001b[0m     \u001b[39m# Caffe2 models do not have the 'forward' method\u001b[39;00m\n\u001b[1;32m--> 877\u001b[0m     \u001b[39mfrom\u001b[39;00m \u001b[39mcaffe2\u001b[39;00m\u001b[39m.\u001b[39;00m\u001b[39mproto\u001b[39;00m \u001b[39mimport\u001b[39;00m caffe2_pb2\n\u001b[0;32m    878\u001b[0m     \u001b[39mfrom\u001b[39;00m \u001b[39mcaffe2\u001b[39;00m\u001b[39m.\u001b[39;00m\u001b[39mpython\u001b[39;00m \u001b[39mimport\u001b[39;00m core\n\u001b[0;32m    880\u001b[0m     \u001b[39mfrom\u001b[39;00m \u001b[39m.\u001b[39;00m\u001b[39m_caffe2_graph\u001b[39;00m \u001b[39mimport\u001b[39;00m (\n\u001b[0;32m    881\u001b[0m         model_to_graph_def,\n\u001b[0;32m    882\u001b[0m         nets_to_graph_def,\n\u001b[0;32m    883\u001b[0m         protos_to_graph_def,\n\u001b[0;32m    884\u001b[0m     )\n",
      "\u001b[1;31mModuleNotFoundError\u001b[0m: No module named 'caffe2'"
     ]
    }
   ],
   "source": [
    "import torch\n",
    "import numpy as np\n",
    "\n",
    "x_data = [1.0,2.0,3.0]\n",
    "y_data = [2.0,4.0,6.0]\n",
    "\n",
    "b = torch.tensor([1.0])\n",
    "w_1 = torch.tensor([1.0])\n",
    "w_2 = torch.tensor([1.0])\n",
    "\n",
    "b.requires_grad = True\n",
    "w_1.requires_grad = True\n",
    "w_2.requires_grad = True\n",
    "\n",
    "def forward2(x):\n",
    "    return w_1*x**2+w_2*x+b\n",
    "\n",
    "#采用随机批量下降\n",
    "def loss1(x,y):\n",
    "    y_h = forward2(x)\n",
    "    return (y_h-y)**2\n",
    "\n",
    "for epoch in range(100000):\n",
    "    for x,y in zip(x_data,y_data): \n",
    "        l2 = loss1(x,y)\n",
    "        l2.backward()\n",
    "        w_1.data = w_1.data - 0.01 * w_1.grad.data\n",
    "        w_2.data = w_2.data - 0.01 * w_2.grad.data\n",
    "        b.data = b.data - 0.01 * b.grad.data\n",
    "        w_1.grad.data.zero_()\n",
    "        w_2.grad.data.zero_()\n",
    "        b.grad.data.zero_()\n",
    "    print(f\"epoch {epoch} w_1 is {w_1.item()},w_2 is {w_2.item()},b is {b.item()}\")\n",
    "\n",
    "print(f\"if x = 4 then y get {forward(4)}\")"
   ]
  },
  {
   "cell_type": "code",
   "execution_count": null,
   "metadata": {},
   "outputs": [],
   "source": [
    "import torch\n",
    "import numpy as np\n",
    "\n",
    "x_data = [1.0,2.0,3.0]\n",
    "y_data = [2.0,4.0,6.0]\n",
    "\n"
   ]
  }
 ],
 "metadata": {
  "kernelspec": {
   "display_name": "pytorch-Test",
   "language": "python",
   "name": "python3"
  },
  "language_info": {
   "codemirror_mode": {
    "name": "ipython",
    "version": 3
   },
   "file_extension": ".py",
   "mimetype": "text/x-python",
   "name": "python",
   "nbconvert_exporter": "python",
   "pygments_lexer": "ipython3",
   "version": "3.11.5"
  },
  "orig_nbformat": 4
 },
 "nbformat": 4,
 "nbformat_minor": 2
}

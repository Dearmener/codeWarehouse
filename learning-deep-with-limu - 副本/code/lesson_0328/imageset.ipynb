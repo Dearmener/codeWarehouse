{
 "cells": [
  {
   "cell_type": "code",
   "execution_count": null,
   "metadata": {},
   "outputs": [],
   "source": [
    "%matplotlib inline\n",
    "import torch\n",
    "import torchvision\n",
    "from torch.utils import data\n",
    "from torchvision import transforms\n",
    "from d2l import torch as d2l\n",
    "d2l.use_svg_display()"
   ]
  },
  {
   "cell_type": "markdown",
   "metadata": {},
   "source": [
    "这段代码是使用Python中的`torchvision`库来加载和处理FashionMNIST数据集的。FashionMNIST是一个包含了10种类别的衣服和鞋子图像的数据集，通常用于计算机视觉和机器学习的训练与测试。下面是对代码中每一行的解释：\n",
    "\n",
    "1. `trans = transforms.ToTensor()`\n",
    "   - 这一行创建了一个转换（transform），它将PIL图像或Numpy数组转换为PyTorch张量（tensor）。这通常是为了准备图像数据以便在PyTorch模型中使用。\n",
    "\n",
    "2. `mnist_train = torchvision.datasets.FashionMNIST(root=\"../data\", train=True, transform=trans, download=True)`\n",
    "   - 这一行加载FashionMNIST数据集的训练部分。\n",
    "   - `root=\"../data\"`: 指定数据集存储的根目录。\n",
    "   - `train=True`: 表明加载的是训练集。\n",
    "   - `transform=trans`: 应用之前定义的转换，即将图像转换为张量。\n",
    "   - `download=True`: 如果数据集不在指定的根目录中，则从互联网下载数据集。\n",
    "\n",
    "3. `mnist_test = torchvision.datasets.FashionMNIST(root=\"../data\", train=False, transform=trans, download=True)`\n",
    "   - 这一行加载FashionMNIST数据集的测试部分。\n",
    "   - 参数与加载训练集类似，不过这里设置了`train=False`来指定加载的是测试集而不是训练集。\n",
    "\n",
    "这段代码的主要目的是准备FashionMNIST数据集的训练和测试部分，以便在机器学习模型中使用。通过将图像转换为张量，它们可以直接用于构建和训练神经网络。"
   ]
  },
  {
   "cell_type": "code",
   "execution_count": null,
   "metadata": {},
   "outputs": [],
   "source": [
    "trans = transforms.ToTensor() #定义了一个trans数据，并且将数据转化为张量的形式\n",
    "mnist_train = torchvision.datasets.FashionMNIST(root=\"../data\",train=True,transform=trans,download=True)\n",
    "mnist_test = torchvision.datasets.FashionMNIST(root=\"../data\",train=False,transform=trans,download=True)\n",
    "\n",
    "len(mnist_train),len(mnist_test)\n"
   ]
  },
  {
   "cell_type": "code",
   "execution_count": null,
   "metadata": {},
   "outputs": [],
   "source": [
    "mnist_train[0]"
   ]
  },
  {
   "cell_type": "code",
   "execution_count": null,
   "metadata": {},
   "outputs": [],
   "source": [
    "len(mnist_train)"
   ]
  },
  {
   "cell_type": "markdown",
   "metadata": {},
   "source": [
    "这个函数能够返回一个列表是因为它使用了一种称为列表推导式（list comprehension）的Python特性。列表推导式是一种简洁、高效创建列表的方法，尤其适用于根据已有列表或可迭代对象生成新列表的情况。\n",
    "\n",
    "在您提供的函数中：\n",
    "\n",
    "```python\n",
    "return [text_labels[int(i)] for i in labels]\n",
    "```\n",
    "\n",
    "- **外围的方括号 `[]`**：这表示正在创建一个新的列表。\n",
    "\n",
    "- **循环部分 `for i in labels`**：这指示Python遍历`labels`中的每个元素，每次循环中`i`会被赋予`labels`中的一个值。\n",
    "\n",
    "- **转换部分 `text_labels[int(i)]`**：对于每个循环中的`i`，首先将其转换为整数（`int(i)`），然后使用这个整数作为索引来访问`text_labels`列表，从而获取对应的文本标签。\n",
    "\n",
    "这个列表推导式的结果是一个新列表，其中包含了根据`labels`中的每个数字索引从`text_labels`中检索到的字符串。因此，整个表达式构成了一个从数字标签到文本标签的转换过程，并将这些文本标签聚集成一个新的列表作为函数的返回值。这是Python中处理此类转换的非常典型和优雅的方式。"
   ]
  },
  {
   "cell_type": "markdown",
   "metadata": {},
   "source": [
    "这个函数能够返回一个列表是因为它使用了一种称为列表推导式（list comprehension）的Python特性。"
   ]
  },
  {
   "cell_type": "code",
   "execution_count": null,
   "metadata": {},
   "outputs": [],
   "source": [
    "def get_fashion_mnist_labels(labels):\n",
    "    text_labels = ['t-shirt', 'trouser', 'pullover', 'dress', 'coat', 'sandal', 'shirt','sneaker', 'bag', 'ankle boot']\n",
    "    return [text_labels[int(i)] for i in labels]"
   ]
  },
  {
   "cell_type": "code",
   "execution_count": null,
   "metadata": {},
   "outputs": [],
   "source": [
    "def show_images(imgs,num_rows,num_cols,titles=None,scale=1.5):\n",
    "    figsize = (num_cols * scale, num_rows * scale)\n",
    "    _, axes = d2l.plt.subplots(num_rows, num_cols, figsize=figsize)\n",
    "    axes = axes.flatten()\n",
    "    for i, (ax, img) in enumerate(zip(axes, imgs)):\n",
    "        if torch.is_tensor(img):\n",
    "            ax.imshow(img.numpy())\n",
    "        else:\n",
    "            ax.imshow(img)\n",
    "        ax.axes.get_xaxis().set_visible(False)\n",
    "        ax.axes.get_yaxis().set_visible(False)\n",
    "        if titles:\n",
    "            ax.set_title(titles[i])\n",
    "    return axes"
   ]
  },
  {
   "cell_type": "code",
   "execution_count": null,
   "metadata": {},
   "outputs": [],
   "source": [
    "X,y= next(iter(data.DataLoader(mnist_train,batch_size=18)))\n",
    "# show_images(X.reshape(18,28,28),2,9,titles=get_fashion_mnist_labels(y))\n",
    "X.shape #torch.Size([18, 1, 28, 28]) 18个图片，每个为1通道，28*28的图片\n",
    "X.reshape(18,28,28) #移除通道维度\n",
    "X"
   ]
  },
  {
   "cell_type": "code",
   "execution_count": null,
   "metadata": {},
   "outputs": [],
   "source": [
    "# 读取一小批数据，大小为batch_size\n",
    "batch_size = 256\n",
    "\n",
    "# 使用4个进程读取数据\n",
    "def get_dataloader_workers():\n",
    "    return 4 \n",
    "\n",
    "train_iter = data.DataLoader(mnist_train,batch_size,shuffle=True,num_workers=get_dataloader_workers())"
   ]
  },
  {
   "cell_type": "code",
   "execution_count": null,
   "metadata": {},
   "outputs": [],
   "source": [
    "def load_data_fashion_mnist(batch_size,resize=None):\n",
    "    trans = [transforms.ToTensor()] # 定义数据格式为tensor\n",
    "    if resize:\n",
    "        trans.insert(0,transforms.Resize(resize))\n",
    "    trans = transforms.Compose(trans)\n",
    "    mnist_train = torchvision.datasets.FashionMNIST(root=\"../data\",train=True,transform=trans,download=True)\n",
    "    mnist_test = torchvision.datasets.FashionMNIST(root=\"../data\",train=False,transform=trans,download=True)\n",
    "    return (data.DataLoader(mnist_train,batch_size,shuffle=True,num_workers=get_dataloader_workers()),data.DataLoader(mnist_test,batch_size,shuffle=False,num_workers=get_dataloader_workers()))\n",
    "\n",
    "train_iter,test_iter = load_data_fashion_mnist(32,resize=64)\n",
    "\n",
    "for X,y in train_iter:\n",
    "    print(X.shape,X.dtype,y.shape,y.dtype)\n",
    "    break\n"
   ]
  }
 ],
 "metadata": {
  "kernelspec": {
   "display_name": "pytorch-Test",
   "language": "python",
   "name": "python3"
  },
  "language_info": {
   "codemirror_mode": {
    "name": "ipython",
    "version": 3
   },
   "file_extension": ".py",
   "mimetype": "text/x-python",
   "name": "python",
   "nbconvert_exporter": "python",
   "pygments_lexer": "ipython3",
   "version": "3.11.5"
  },
  "orig_nbformat": 4
 },
 "nbformat": 4,
 "nbformat_minor": 2
}
